{
  "metadata": {
    "kernelspec": {
      "name": "glue_pyspark",
      "display_name": "Glue PySpark",
      "language": "python"
    },
    "language_info": {
      "name": "Python_Glue_Session",
      "mimetype": "text/x-python",
      "codemirror_mode": {
        "name": "python",
        "version": 3
      },
      "pygments_lexer": "python3",
      "file_extension": ".py"
    },
    "colab": {
      "provenance": [],
      "include_colab_link": true
    }
  },
  "nbformat_minor": 0,
  "nbformat": 4,
  "cells": [
    {
      "cell_type": "markdown",
      "metadata": {
        "id": "view-in-github",
        "colab_type": "text"
      },
      "source": [
        "<a href=\"https://colab.research.google.com/github/Rohith-Dasari/Datathon/blob/main/etl.ipynb\" target=\"_parent\"><img src=\"https://colab.research.google.com/assets/colab-badge.svg\" alt=\"Open In Colab\"/></a>"
      ]
    },
    {
      "cell_type": "markdown",
      "source": [
        "# AWS Glue Studio Notebook for BigDataAnalysis(ETL) of BobbleAI logs"
      ],
      "metadata": {
        "editable": true,
        "trusted": true,
        "id": "CrIEs6Qw1sK1"
      }
    },
    {
      "cell_type": "markdown",
      "source": [
        "#### Optional: Run this cell to see available notebook commands (\"magics\").\n"
      ],
      "metadata": {
        "editable": true,
        "trusted": true,
        "id": "sHukmJwx1sK4"
      }
    },
    {
      "cell_type": "code",
      "source": [
        "%help"
      ],
      "metadata": {
        "trusted": true,
        "editable": true,
        "id": "nRe1hE4R1sK5"
      },
      "execution_count": null,
      "outputs": []
    },
    {
      "cell_type": "markdown",
      "source": [
        "####  Basic AWS Glue setup with PySpark API for Apache Spark on G.2X 10DPUs distributed cluster\n"
      ],
      "metadata": {
        "editable": true,
        "id": "XtJ2f-XY1sK6"
      }
    },
    {
      "cell_type": "code",
      "source": [
        "%idle_timeout 2880\n",
        "%glue_version 4.0\n",
        "%worker_type G.2X\n",
        "%number_of_workers 10\n",
        "\n",
        "import sys\n",
        "from awsglue.transforms import *\n",
        "from awsglue.utils import getResolvedOptions\n",
        "from pyspark.context import SparkContext\n",
        "from awsglue.context import GlueContext\n",
        "from awsglue.job import Job\n",
        "\n",
        "sc = SparkContext.getOrCreate()\n",
        "glueContext = GlueContext(sc)\n",
        "spark = glueContext.spark_session\n",
        "job = Job(glueContext)"
      ],
      "metadata": {
        "trusted": true,
        "editable": true,
        "id": "hO7zNH1r1sK6",
        "outputId": "f2179057-dd7a-4726-b79b-3a40cd634f13"
      },
      "execution_count": null,
      "outputs": [
        {
          "name": "stderr",
          "text": "You are already connected to a glueetl session 55738361-23c6-4592-a283-283c4fa54455.\n\nNo change will be made to the current session that is set as glueetl. The session configuration change will apply to newly created sessions.\n",
          "output_type": "stream"
        },
        {
          "name": "stdout",
          "text": "Current idle_timeout is 2880 minutes.\nidle_timeout has been set to 2880 minutes.\n",
          "output_type": "stream"
        },
        {
          "name": "stderr",
          "text": "You are already connected to a glueetl session 55738361-23c6-4592-a283-283c4fa54455.\n\nNo change will be made to the current session that is set as glueetl. The session configuration change will apply to newly created sessions.\n",
          "output_type": "stream"
        },
        {
          "name": "stdout",
          "text": "Setting Glue version to: 4.0\n",
          "output_type": "stream"
        },
        {
          "name": "stderr",
          "text": "You are already connected to a glueetl session 55738361-23c6-4592-a283-283c4fa54455.\n\nNo change will be made to the current session that is set as glueetl. The session configuration change will apply to newly created sessions.\n",
          "output_type": "stream"
        },
        {
          "name": "stdout",
          "text": "Previous worker type: G.2X\nSetting new worker type to: G.2X\n",
          "output_type": "stream"
        },
        {
          "name": "stderr",
          "text": "You are already connected to a glueetl session 55738361-23c6-4592-a283-283c4fa54455.\n\nNo change will be made to the current session that is set as glueetl. The session configuration change will apply to newly created sessions.\n",
          "output_type": "stream"
        },
        {
          "name": "stdout",
          "text": "Previous number of workers: 10\nSetting new number of workers to: 10\n\n",
          "output_type": "stream"
        }
      ]
    },
    {
      "cell_type": "markdown",
      "source": [
        "#### ETL Glue Job"
      ],
      "metadata": {
        "tags": [],
        "id": "JIpVuADq1sK7"
      }
    },
    {
      "cell_type": "code",
      "source": [
        "job.init(\"BobbleAI-ETL\")"
      ],
      "metadata": {
        "trusted": true,
        "tags": [],
        "id": "aYTwXJOM1sK8",
        "outputId": "f7bd80f5-2779-4adb-e19c-6af8d54376ed"
      },
      "execution_count": null,
      "outputs": [
        {
          "name": "stdout",
          "text": "\n",
          "output_type": "stream"
        }
      ]
    },
    {
      "cell_type": "markdown",
      "source": [
        "#### Linking S3 bucket objects"
      ],
      "metadata": {
        "tags": [],
        "id": "FqlxyO3l1sK8"
      }
    },
    {
      "cell_type": "code",
      "source": [
        "input_path = \"s3://test-buckets165/raw-data/\"\n",
        "output_path = \"s3://test-buckets165/processed-data/\""
      ],
      "metadata": {
        "trusted": true,
        "tags": [],
        "id": "Vj8vaT0p1sK8",
        "outputId": "3294cc79-ea5e-4797-a9be-e78d78a8718b"
      },
      "execution_count": null,
      "outputs": [
        {
          "name": "stdout",
          "text": "\n",
          "output_type": "stream"
        }
      ]
    },
    {
      "cell_type": "markdown",
      "source": [
        "#### Preprocessing"
      ],
      "metadata": {
        "id": "St2XAsJA1sK9"
      }
    },
    {
      "cell_type": "code",
      "source": [
        "df = spark.read.json(input_path)\n",
        "df.printSchema()"
      ],
      "metadata": {
        "trusted": true,
        "tags": [],
        "collapsed": true,
        "id": "66DbWb7s1sK9",
        "outputId": "1e40b5ea-dc3e-4f8a-fc01-c26a0afd3f61"
      },
      "execution_count": null,
      "outputs": [
        {
          "name": "stdout",
          "text": "root\n |-- advertisingId: string (nullable = true)\n |-- app_id: string (nullable = true)\n |-- app_version: string (nullable = true)\n |-- created_at: string (nullable = true)\n |-- data: struct (nullable = true)\n |    |-- action: string (nullable = true)\n |    |-- action_taken: string (nullable = true)\n |    |-- action_title: string (nullable = true)\n |    |-- ad_category: string (nullable = true)\n |    |-- ad_id: string (nullable = true)\n |    |-- ad_list_size: long (nullable = true)\n |    |-- ad_package_name: string (nullable = true)\n |    |-- ad_partner: string (nullable = true)\n |    |-- ad_type: string (nullable = true)\n |    |-- ads_size: long (nullable = true)\n |    |-- animated_emoji_id: string (nullable = true)\n |    |-- api_request_identifier: string (nullable = true)\n |    |-- audio: long (nullable = true)\n |    |-- auto_corrected: long (nullable = true)\n |    |-- auto_corrected_undo: long (nullable = true)\n |    |-- autocorrect_char_saved: long (nullable = true)\n |    |-- avg_key_stroke_time: long (nullable = true)\n |    |-- background_story_id: long (nullable = true)\n |    |-- banner_url: string (nullable = true)\n |    |-- bigmoji_viewed: long (nullable = true)\n |    |-- bigmojis: array (nullable = true)\n |    |    |-- element: struct (containsNull = true)\n |    |    |    |-- emoji_id: string (nullable = true)\n |    |    |    |-- image_id: long (nullable = true)\n |    |-- brand_campaign_id: string (nullable = true)\n |    |-- cache_age: long (nullable = true)\n |    |-- card_type: string (nullable = true)\n |    |-- category: string (nullable = true)\n |    |-- category_id: string (nullable = true)\n |    |-- category_name: string (nullable = true)\n |    |-- character_count: long (nullable = true)\n |    |-- content_category_id: string (nullable = true)\n |    |-- content_count: long (nullable = true)\n |    |-- content_id: string (nullable = true)\n |    |-- content_type: string (nullable = true)\n |    |-- counter: long (nullable = true)\n |    |-- customized_quick_reply: string (nullable = true)\n |    |-- deeplink_id: string (nullable = true)\n |    |-- default_font: long (nullable = true)\n |    |-- deleted_count: long (nullable = true)\n |    |-- dict: string (nullable = true)\n |    |-- dictionary: array (nullable = true)\n |    |    |-- element: struct (containsNull = true)\n |    |    |    |-- dictionary_id: long (nullable = true)\n |    |-- dictionary_used: long (nullable = true)\n |    |-- dictionary_version: long (nullable = true)\n |    |-- direct_share: long (nullable = true)\n |    |-- dismiss_reason: string (nullable = true)\n |    |-- domain_name: string (nullable = true)\n |    |-- emoji: string (nullable = true)\n |    |-- emoji_id: string (nullable = true)\n |    |-- error: string (nullable = true)\n |    |-- error_message: string (nullable = true)\n |    |-- error_type: string (nullable = true)\n |    |-- flow: string (nullable = true)\n |    |-- font: long (nullable = true)\n |    |-- font_id: long (nullable = true)\n |    |-- font_viewed: string (nullable = true)\n |    |-- from: string (nullable = true)\n |    |-- from_icon: long (nullable = true)\n |    |-- gif_id: string (nullable = true)\n |    |-- gif_viewed: long (nullable = true)\n |    |-- gifs: array (nullable = true)\n |    |    |-- element: struct (containsNull = true)\n |    |    |    |-- content_category_id: long (nullable = true)\n |    |    |    |-- gif_id: long (nullable = true)\n |    |    |    |-- is_otf_present: long (nullable = true)\n |    |    |    |-- is_predicted: long (nullable = true)\n |    |    |    |-- is_recent: long (nullable = true)\n |    |    |    |-- pack_id: long (nullable = true)\n |    |    |    |-- rec_version: string (nullable = true)\n |    |    |    |-- rendering_time: long (nullable = true)\n |    |-- grant: string (nullable = true)\n |    |-- head_age: string (nullable = true)\n |    |-- head_age_range: string (nullable = true)\n |    |-- head_creation_unique_identifier: string (nullable = true)\n |    |-- head_creation_user_time_taken: long (nullable = true)\n |    |-- head_gender: string (nullable = true)\n |    |-- head_id: string (nullable = true)\n |    |-- head_list: string (nullable = true)\n |    |-- head_relation: string (nullable = true)\n |    |-- head_source: string (nullable = true)\n |    |-- head_type: string (nullable = true)\n |    |-- icon_id: long (nullable = true)\n |    |-- icon_type: string (nullable = true)\n |    |-- image_available: long (nullable = true)\n |    |-- image_id: long (nullable = true)\n |    |-- image_source: string (nullable = true)\n |    |-- index: long (nullable = true)\n |    |-- input_word_index: long (nullable = true)\n |    |-- internal_ad_id: long (nullable = true)\n |    |-- internal_content_type: string (nullable = true)\n |    |-- is_alternate_title_used: long (nullable = true)\n |    |-- is_forced_api_call: boolean (nullable = true)\n |    |-- is_manual: long (nullable = true)\n |    |-- is_otf_present: long (nullable = true)\n |    |-- is_persisted: long (nullable = true)\n |    |-- is_predicted: long (nullable = true)\n |    |-- is_recent: long (nullable = true)\n |    |-- is_swipe: long (nullable = true)\n |    |-- is_translated: long (nullable = true)\n |    |-- is_typing: long (nullable = true)\n |    |-- is_word_deletion: boolean (nullable = true)\n |    |-- kb_height: long (nullable = true)\n |    |-- kb_language: long (nullable = true)\n |    |-- kb_layout: long (nullable = true)\n |    |-- keyword: string (nullable = true)\n |    |-- language_code: string (nullable = true)\n |    |-- language_id: string (nullable = true)\n |    |-- language_version: string (nullable = true)\n |    |-- layout: long (nullable = true)\n |    |-- layout_id: string (nullable = true)\n |    |-- loading_time: long (nullable = true)\n |    |-- localRecommendationIdentifier: string (nullable = true)\n |    |-- local_cache_reason: string (nullable = true)\n |    |-- locale: string (nullable = true)\n |    |-- macronic_suggest_count: long (nullable = true)\n |    |-- match_event: string (nullable = true)\n |    |-- match_id: string (nullable = true)\n |    |-- match_status_code: string (nullable = true)\n |    |-- meme_id: string (nullable = true)\n |    |-- merged_dictionary_version: long (nullable = true)\n |    |-- merged_language: string (nullable = true)\n |    |-- merged_languages: array (nullable = true)\n |    |    |-- element: struct (containsNull = true)\n |    |    |    |-- 1: string (nullable = true)\n |    |    |    |-- 100: string (nullable = true)\n |    |    |    |-- 101: string (nullable = true)\n |    |    |    |-- 102: string (nullable = true)\n |    |    |    |-- 103: string (nullable = true)\n |    |    |    |-- 104: string (nullable = true)\n |    |    |    |-- 105: string (nullable = true)\n |    |    |    |-- 106: string (nullable = true)\n |    |    |    |-- 107: string (nullable = true)\n |    |    |    |-- 108: string (nullable = true)\n |    |    |    |-- 109: string (nullable = true)\n |    |    |    |-- 11: string (nullable = true)\n |    |    |    |-- 110: string (nullable = true)\n |    |    |    |-- 111: string (nullable = true)\n |    |    |    |-- 112: string (nullable = true)\n |    |    |    |-- 113: string (nullable = true)\n |    |    |    |-- 114: string (nullable = true)\n |    |    |    |-- 115: string (nullable = true)\n |    |    |    |-- 116: string (nullable = true)\n |    |    |    |-- 117: string (nullable = true)\n |    |    |    |-- 118: string (nullable = true)\n |    |    |    |-- 119: string (nullable = true)\n |    |    |    |-- 120: string (nullable = true)\n |    |    |    |-- 121: string (nullable = true)\n |    |    |    |-- 122: string (nullable = true)\n |    |    |    |-- 123: string (nullable = true)\n |    |    |    |-- 124: string (nullable = true)\n |    |    |    |-- 125: string (nullable = true)\n |    |    |    |-- 126: string (nullable = true)\n |    |    |    |-- 127: string (nullable = true)\n |    |    |    |-- 128: string (nullable = true)\n |    |    |    |-- 129: string (nullable = true)\n |    |    |    |-- 130: string (nullable = true)\n |    |    |    |-- 131: string (nullable = true)\n |    |    |    |-- 132: string (nullable = true)\n |    |    |    |-- 133: string (nullable = true)\n |    |    |    |-- 134: string (nullable = true)\n |    |    |    |-- 135: string (nullable = true)\n |    |    |    |-- 136: string (nullable = true)\n |    |    |    |-- 137: string (nullable = true)\n |    |    |    |-- 138: string (nullable = true)\n |    |    |    |-- 139: string (nullable = true)\n |    |    |    |-- 140: string (nullable = true)\n |    |    |    |-- 141: string (nullable = true)\n |    |    |    |-- 142: string (nullable = true)\n |    |    |    |-- 143: string (nullable = true)\n |    |    |    |-- 144: string (nullable = true)\n |    |    |    |-- 146: string (nullable = true)\n |    |    |    |-- 147: string (nullable = true)\n |    |    |    |-- 148: string (nullable = true)\n |    |    |    |-- 149: string (nullable = true)\n |    |    |    |-- 15: string (nullable = true)\n |    |    |    |-- 150: string (nullable = true)\n |    |    |    |-- 151: string (nullable = true)\n |    |    |    |-- 152: string (nullable = true)\n |    |    |    |-- 153: string (nullable = true)\n |    |    |    |-- 154: string (nullable = true)\n |    |    |    |-- 155: string (nullable = true)\n |    |    |    |-- 156: string (nullable = true)\n |    |    |    |-- 157: string (nullable = true)\n |    |    |    |-- 158: string (nullable = true)\n |    |    |    |-- 159: string (nullable = true)\n |    |    |    |-- 16: string (nullable = true)\n |    |    |    |-- 160: string (nullable = true)\n |    |    |    |-- 161: string (nullable = true)\n |    |    |    |-- 162: string (nullable = true)\n |    |    |    |-- 163: string (nullable = true)\n |    |    |    |-- 164: string (nullable = true)\n |    |    |    |-- 165: string (nullable = true)\n |    |    |    |-- 166: string (nullable = true)\n |    |    |    |-- 167: string (nullable = true)\n |    |    |    |-- 168: string (nullable = true)\n |    |    |    |-- 169: string (nullable = true)\n |    |    |    |-- 17: string (nullable = true)\n |    |    |    |-- 170: string (nullable = true)\n |    |    |    |-- 171: string (nullable = true)\n |    |    |    |-- 172: string (nullable = true)\n |    |    |    |-- 173: string (nullable = true)\n |    |    |    |-- 174: string (nullable = true)\n |    |    |    |-- 175: string (nullable = true)\n |    |    |    |-- 176: string (nullable = true)\n |    |    |    |-- 177: string (nullable = true)\n |    |    |    |-- 178: string (nullable = true)\n |    |    |    |-- 179: string (nullable = true)\n |    |    |    |-- 18: string (nullable = true)\n |    |    |    |-- 180: string (nullable = true)\n |    |    |    |-- 19: string (nullable = true)\n |    |    |    |-- 2: string (nullable = true)\n |    |    |    |-- 20: string (nullable = true)\n |    |    |    |-- 21: string (nullable = true)\n |    |    |    |-- 22: string (nullable = true)\n |    |    |    |-- 23: string (nullable = true)\n |    |    |    |-- 24: string (nullable = true)\n |    |    |    |-- 25: string (nullable = true)\n |    |    |    |-- 26: string (nullable = true)\n |    |    |    |-- 27: string (nullable = true)\n |    |    |    |-- 28: string (nullable = true)\n |    |    |    |-- 29: string (nullable = true)\n |    |    |    |-- 3: string (nullable = true)\n |    |    |    |-- 38: string (nullable = true)\n |    |    |    |-- 39: string (nullable = true)\n |    |    |    |-- 4: string (nullable = true)\n |    |    |    |-- 40: string (nullable = true)\n |    |    |    |-- 5: string (nullable = true)\n |    |    |    |-- 6: string (nullable = true)\n |    |    |    |-- 7: string (nullable = true)\n |    |    |    |-- 72: string (nullable = true)\n |    |    |    |-- 73: string (nullable = true)\n |    |    |    |-- 74: string (nullable = true)\n |    |    |    |-- 75: string (nullable = true)\n |    |    |    |-- 76: string (nullable = true)\n |    |    |    |-- 77: string (nullable = true)\n |    |    |    |-- 78: string (nullable = true)\n |    |    |    |-- 79: string (nullable = true)\n |    |    |    |-- 8: string (nullable = true)\n |    |    |    |-- 80: string (nullable = true)\n |    |    |    |-- 81: string (nullable = true)\n |    |    |    |-- 82: string (nullable = true)\n |    |    |    |-- 83: string (nullable = true)\n |    |    |    |-- 84: string (nullable = true)\n |    |    |    |-- 85: string (nullable = true)\n |    |    |    |-- 86: string (nullable = true)\n |    |    |    |-- 87: string (nullable = true)\n |    |    |    |-- 88: string (nullable = true)\n |    |    |    |-- 89: string (nullable = true)\n |    |    |    |-- 9: string (nullable = true)\n |    |    |    |-- 90: string (nullable = true)\n |    |    |    |-- 91: string (nullable = true)\n |    |    |    |-- 92: string (nullable = true)\n |    |    |    |-- 93: string (nullable = true)\n |    |    |    |-- 94: string (nullable = true)\n |    |    |    |-- 95: string (nullable = true)\n |    |    |    |-- 96: string (nullable = true)\n |    |    |    |-- 97: string (nullable = true)\n |    |    |    |-- 98: string (nullable = true)\n |    |    |    |-- 99: string (nullable = true)\n |    |-- moviegif_viewed: long (nullable = true)\n |    |-- my_story: long (nullable = true)\n |    |-- networkType: string (nullable = true)\n |    |-- next_action: string (nullable = true)\n |    |-- next_story_id: long (nullable = true)\n |    |-- next_story_type: string (nullable = true)\n |    |-- number_of_ads_requested: long (nullable = true)\n |    |-- numeric_emoji_number_row: long (nullable = true)\n |    |-- option_taken: string (nullable = true)\n |    |-- options: long (nullable = true)\n |    |-- orientation: string (nullable = true)\n |    |-- otf_text: string (nullable = true)\n |    |-- other_tab_id: long (nullable = true)\n |    |-- other_tab_name: string (nullable = true)\n |    |-- pack: string (nullable = true)\n |    |-- pack_id: long (nullable = true)\n |    |-- package_name: string (nullable = true)\n |    |-- path: string (nullable = true)\n |    |-- permission_type: string (nullable = true)\n |    |-- phase: string (nullable = true)\n |    |-- pinned_count: string (nullable = true)\n |    |-- placement: string (nullable = true)\n |    |-- placementLocation: string (nullable = true)\n |    |-- placementType: string (nullable = true)\n |    |-- placement_id: string (nullable = true)\n |    |-- pop_text_style_id: long (nullable = true)\n |    |-- poptext_viewed: long (nullable = true)\n |    |-- predict_algo_generated: string (nullable = true)\n |    |-- predict_algo_shown_count: string (nullable = true)\n |    |-- predict_algo_used_count: string (nullable = true)\n |    |-- predict_model_status: struct (nullable = true)\n |    |    |-- 1: boolean (nullable = true)\n |    |    |-- 100: boolean (nullable = true)\n |    |    |-- 101: boolean (nullable = true)\n |    |    |-- 102: boolean (nullable = true)\n |    |    |-- 103: boolean (nullable = true)\n |    |    |-- 104: boolean (nullable = true)\n |    |    |-- 106: boolean (nullable = true)\n |    |    |-- 107: boolean (nullable = true)\n |    |    |-- 108: boolean (nullable = true)\n |    |    |-- 109: boolean (nullable = true)\n |    |    |-- 110: boolean (nullable = true)\n |    |    |-- 111: boolean (nullable = true)\n |    |    |-- 112: boolean (nullable = true)\n |    |    |-- 113: boolean (nullable = true)\n |    |    |-- 114: boolean (nullable = true)\n |    |    |-- 115: boolean (nullable = true)\n |    |    |-- 116: boolean (nullable = true)\n |    |    |-- 117: boolean (nullable = true)\n |    |    |-- 119: boolean (nullable = true)\n |    |    |-- 120: boolean (nullable = true)\n |    |    |-- 121: boolean (nullable = true)\n |    |    |-- 122: boolean (nullable = true)\n |    |    |-- 123: boolean (nullable = true)\n |    |    |-- 124: boolean (nullable = true)\n |    |    |-- 125: boolean (nullable = true)\n |    |    |-- 126: boolean (nullable = true)\n |    |    |-- 127: boolean (nullable = true)\n |    |    |-- 128: boolean (nullable = true)\n |    |    |-- 13: boolean (nullable = true)\n |    |    |-- 130: boolean (nullable = true)\n |    |    |-- 131: boolean (nullable = true)\n |    |    |-- 132: boolean (nullable = true)\n |    |    |-- 133: boolean (nullable = true)\n |    |    |-- 134: boolean (nullable = true)\n |    |    |-- 135: boolean (nullable = true)\n |    |    |-- 136: boolean (nullable = true)\n |    |    |-- 137: boolean (nullable = true)\n |    |    |-- 138: boolean (nullable = true)\n |    |    |-- 139: boolean (nullable = true)\n |    |    |-- 140: boolean (nullable = true)\n |    |    |-- 141: boolean (nullable = true)\n |    |    |-- 142: boolean (nullable = true)\n |    |    |-- 143: boolean (nullable = true)\n |    |    |-- 144: boolean (nullable = true)\n |    |    |-- 145: boolean (nullable = true)\n |    |    |-- 146: boolean (nullable = true)\n |    |    |-- 147: boolean (nullable = true)\n |    |    |-- 148: boolean (nullable = true)\n |    |    |-- 149: boolean (nullable = true)\n |    |    |-- 15: boolean (nullable = true)\n |    |    |-- 16: boolean (nullable = true)\n |    |    |-- 17: boolean (nullable = true)\n |    |    |-- 179: boolean (nullable = true)\n |    |    |-- 18: boolean (nullable = true)\n |    |    |-- 180: boolean (nullable = true)\n |    |    |-- 181: boolean (nullable = true)\n |    |    |-- 182: boolean (nullable = true)\n |    |    |-- 183: boolean (nullable = true)\n |    |    |-- 184: boolean (nullable = true)\n |    |    |-- 185: boolean (nullable = true)\n |    |    |-- 186: boolean (nullable = true)\n |    |    |-- 187: boolean (nullable = true)\n |    |    |-- 188: boolean (nullable = true)\n |    |    |-- 189: boolean (nullable = true)\n |    |    |-- 19: boolean (nullable = true)\n |    |    |-- 190: boolean (nullable = true)\n |    |    |-- 191: boolean (nullable = true)\n |    |    |-- 192: boolean (nullable = true)\n |    |    |-- 193: boolean (nullable = true)\n |    |    |-- 194: boolean (nullable = true)\n |    |    |-- 195: boolean (nullable = true)\n |    |    |-- 196: boolean (nullable = true)\n |    |    |-- 197: boolean (nullable = true)\n |    |    |-- 198: boolean (nullable = true)\n |    |    |-- 199: boolean (nullable = true)\n |    |    |-- 200: boolean (nullable = true)\n |    |    |-- 201: boolean (nullable = true)\n |    |    |-- 202: boolean (nullable = true)\n |    |    |-- 203: boolean (nullable = true)\n |    |    |-- 204: boolean (nullable = true)\n |    |    |-- 205: boolean (nullable = true)\n |    |    |-- 206: boolean (nullable = true)\n |    |    |-- 207: boolean (nullable = true)\n |    |    |-- 208: boolean (nullable = true)\n |    |    |-- 21: boolean (nullable = true)\n |    |    |-- 210: boolean (nullable = true)\n |    |    |-- 211: boolean (nullable = true)\n |    |    |-- 212: boolean (nullable = true)\n |    |    |-- 213: boolean (nullable = true)\n |    |    |-- 214: boolean (nullable = true)\n |    |    |-- 215: boolean (nullable = true)\n |    |    |-- 216: boolean (nullable = true)\n |    |    |-- 217: boolean (nullable = true)\n |    |    |-- 218: boolean (nullable = true)\n |    |    |-- 219: boolean (nullable = true)\n |    |    |-- 220: boolean (nullable = true)\n |    |    |-- 221: boolean (nullable = true)\n |    |    |-- 222: boolean (nullable = true)\n |    |    |-- 223: boolean (nullable = true)\n |    |    |-- 224: boolean (nullable = true)\n |    |    |-- 225: boolean (nullable = true)\n |    |    |-- 250: boolean (nullable = true)\n |    |    |-- 252: boolean (nullable = true)\n |    |    |-- 253: boolean (nullable = true)\n |    |    |-- 254: boolean (nullable = true)\n |    |    |-- 255: boolean (nullable = true)\n |    |    |-- 256: boolean (nullable = true)\n |    |    |-- 257: boolean (nullable = true)\n |    |    |-- 26: boolean (nullable = true)\n |    |    |-- 289: boolean (nullable = true)\n |    |    |-- 292: boolean (nullable = true)\n |    |    |-- 294: boolean (nullable = true)\n |    |    |-- 295: boolean (nullable = true)\n |    |    |-- 296: boolean (nullable = true)\n |    |    |-- 299: boolean (nullable = true)\n |    |    |-- 300: boolean (nullable = true)\n |    |    |-- 301: boolean (nullable = true)\n |    |    |-- 307: boolean (nullable = true)\n |    |    |-- 34: boolean (nullable = true)\n |    |    |-- 35: boolean (nullable = true)\n |    |    |-- 50: boolean (nullable = true)\n |    |    |-- 51: boolean (nullable = true)\n |    |    |-- 52: boolean (nullable = true)\n |    |    |-- 53: boolean (nullable = true)\n |    |    |-- 57: boolean (nullable = true)\n |    |    |-- 60: boolean (nullable = true)\n |    |    |-- 66: boolean (nullable = true)\n |    |    |-- 68: boolean (nullable = true)\n |    |    |-- 7: boolean (nullable = true)\n |    |    |-- 71: boolean (nullable = true)\n |    |    |-- 83: boolean (nullable = true)\n |    |    |-- 84: boolean (nullable = true)\n |    |    |-- 86: boolean (nullable = true)\n |    |    |-- 89: boolean (nullable = true)\n |    |    |-- 91: boolean (nullable = true)\n |    |    |-- 92: boolean (nullable = true)\n |    |    |-- 93: boolean (nullable = true)\n |    |    |-- 94: boolean (nullable = true)\n |    |    |-- 96: boolean (nullable = true)\n |    |    |-- 97: boolean (nullable = true)\n |    |    |-- 98: boolean (nullable = true)\n |    |    |-- 99: boolean (nullable = true)\n |    |    |-- Bahasa Indonesia: boolean (nullable = true)\n |    |    |-- English (India): boolean (nullable = true)\n |    |    |-- Hindi / हिन्दी: boolean (nullable = true)\n |    |    |-- Hinglish: boolean (nullable = true)\n |    |    |-- Indonesian: boolean (nullable = true)\n |    |-- predict_pos_count: struct (nullable = true)\n |    |    |-- 0: long (nullable = true)\n |    |    |-- 1: long (nullable = true)\n |    |    |-- 2: long (nullable = true)\n |    |    |-- English (India): array (nullable = true)\n |    |    |    |-- element: struct (containsNull = true)\n |    |    |    |    |-- 0: long (nullable = true)\n |    |    |    |    |-- 1: long (nullable = true)\n |    |    |    |    |-- 2: long (nullable = true)\n |    |    |    |    |-- 3: long (nullable = true)\n |    |    |    |    |-- 4: long (nullable = true)\n |    |    |    |    |-- 5: long (nullable = true)\n |    |    |    |    |-- 6: long (nullable = true)\n |    |    |-- Indonesian: array (nullable = true)\n |    |    |    |-- element: struct (containsNull = true)\n |    |    |    |    |-- 1: long (nullable = true)\n |    |    |    |    |-- 2: long (nullable = true)\n |    |    |    |    |-- 3: long (nullable = true)\n |    |-- predict_saved_characters: long (nullable = true)\n |    |-- predict_shown_count: long (nullable = true)\n |    |-- prediction_used: long (nullable = true)\n |    |-- previewResourceType: string (nullable = true)\n |    |-- previous_story_id: long (nullable = true)\n |    |-- previous_story_type: string (nullable = true)\n |    |-- prompt_id: long (nullable = true)\n |    |-- prompt_shown_count: long (nullable = true)\n |    |-- prompt_text: string (nullable = true)\n |    |-- prompt_type: string (nullable = true)\n |    |-- provider: string (nullable = true)\n |    |-- rec_version: string (nullable = true)\n |    |-- recommendationIdentifier: string (nullable = true)\n |    |-- rendering_time: long (nullable = true)\n |    |-- request_http_status: string (nullable = true)\n |    |-- request_identifier: string (nullable = true)\n |    |-- response: string (nullable = true)\n |    |-- response_source: string (nullable = true)\n |    |-- revenue_model: string (nullable = true)\n |    |-- score_type: string (nullable = true)\n |    |-- sd_category_id: long (nullable = true)\n |    |-- search: long (nullable = true)\n |    |-- search_string: string (nullable = true)\n |    |-- search_text: string (nullable = true)\n |    |-- selected_female_head_id: string (nullable = true)\n |    |-- selected_head_id: string (nullable = true)\n |    |-- selected_male_head_id: string (nullable = true)\n |    |-- server_quick_reply: string (nullable = true)\n |    |-- sessionData: array (nullable = true)\n |    |    |-- element: struct (containsNull = true)\n |    |    |    |-- RejectionCount: long (nullable = true)\n |    |    |    |-- SuggestionStripSelectionCount: long (nullable = true)\n |    |    |    |-- TotalSuggestionCount: long (nullable = true)\n |    |    |    |-- algoUsed: string (nullable = true)\n |    |-- session_count: long (nullable = true)\n |    |-- session_id: string (nullable = true)\n |    |-- shared_as: string (nullable = true)\n |    |-- shared_package: string (nullable = true)\n |    |-- smart_compose_word_count: long (nullable = true)\n |    |-- smartcompose_model_status: struct (nullable = true)\n |    |    |-- 1: boolean (nullable = true)\n |    |    |-- 100: boolean (nullable = true)\n |    |    |-- 101: boolean (nullable = true)\n |    |    |-- 102: boolean (nullable = true)\n |    |    |-- 103: boolean (nullable = true)\n |    |    |-- 104: boolean (nullable = true)\n |    |    |-- 106: boolean (nullable = true)\n |    |    |-- 107: boolean (nullable = true)\n |    |    |-- 108: boolean (nullable = true)\n |    |    |-- 109: boolean (nullable = true)\n |    |    |-- 110: boolean (nullable = true)\n |    |    |-- 111: boolean (nullable = true)\n |    |    |-- 112: boolean (nullable = true)\n |    |    |-- 113: boolean (nullable = true)\n |    |    |-- 114: boolean (nullable = true)\n |    |    |-- 115: boolean (nullable = true)\n |    |    |-- 116: boolean (nullable = true)\n |    |    |-- 117: boolean (nullable = true)\n |    |    |-- 119: boolean (nullable = true)\n |    |    |-- 120: boolean (nullable = true)\n |    |    |-- 121: boolean (nullable = true)\n |    |    |-- 122: boolean (nullable = true)\n |    |    |-- 123: boolean (nullable = true)\n |    |    |-- 124: boolean (nullable = true)\n |    |    |-- 125: boolean (nullable = true)\n |    |    |-- 126: boolean (nullable = true)\n |    |    |-- 127: boolean (nullable = true)\n |    |    |-- 128: boolean (nullable = true)\n |    |    |-- 13: boolean (nullable = true)\n |    |    |-- 130: boolean (nullable = true)\n |    |    |-- 131: boolean (nullable = true)\n |    |    |-- 132: boolean (nullable = true)\n |    |    |-- 133: boolean (nullable = true)\n |    |    |-- 134: boolean (nullable = true)\n |    |    |-- 135: boolean (nullable = true)\n |    |    |-- 136: boolean (nullable = true)\n |    |    |-- 137: boolean (nullable = true)\n |    |    |-- 138: boolean (nullable = true)\n |    |    |-- 139: boolean (nullable = true)\n |    |    |-- 140: boolean (nullable = true)\n |    |    |-- 141: boolean (nullable = true)\n |    |    |-- 142: boolean (nullable = true)\n |    |    |-- 143: boolean (nullable = true)\n |    |    |-- 144: boolean (nullable = true)\n |    |    |-- 145: boolean (nullable = true)\n |    |    |-- 146: boolean (nullable = true)\n |    |    |-- 147: boolean (nullable = true)\n |    |    |-- 148: boolean (nullable = true)\n |    |    |-- 149: boolean (nullable = true)\n |    |    |-- 15: boolean (nullable = true)\n |    |    |-- 16: boolean (nullable = true)\n |    |    |-- 17: boolean (nullable = true)\n |    |    |-- 179: boolean (nullable = true)\n |    |    |-- 18: boolean (nullable = true)\n |    |    |-- 180: boolean (nullable = true)\n |    |    |-- 181: boolean (nullable = true)\n |    |    |-- 182: boolean (nullable = true)\n |    |    |-- 183: boolean (nullable = true)\n |    |    |-- 184: boolean (nullable = true)\n |    |    |-- 185: boolean (nullable = true)\n |    |    |-- 186: boolean (nullable = true)\n |    |    |-- 187: boolean (nullable = true)\n |    |    |-- 188: boolean (nullable = true)\n |    |    |-- 189: boolean (nullable = true)\n |    |    |-- 19: boolean (nullable = true)\n |    |    |-- 190: boolean (nullable = true)\n |    |    |-- 191: boolean (nullable = true)\n |    |    |-- 192: boolean (nullable = true)\n |    |    |-- 193: boolean (nullable = true)\n |    |    |-- 194: boolean (nullable = true)\n |    |    |-- 195: boolean (nullable = true)\n |    |    |-- 196: boolean (nullable = true)\n |    |    |-- 197: boolean (nullable = true)\n |    |    |-- 198: boolean (nullable = true)\n |    |    |-- 199: boolean (nullable = true)\n |    |    |-- 200: boolean (nullable = true)\n |    |    |-- 201: boolean (nullable = true)\n |    |    |-- 202: boolean (nullable = true)\n |    |    |-- 203: boolean (nullable = true)\n |    |    |-- 204: boolean (nullable = true)\n |    |    |-- 205: boolean (nullable = true)\n |    |    |-- 206: boolean (nullable = true)\n |    |    |-- 207: boolean (nullable = true)\n |    |    |-- 208: boolean (nullable = true)\n |    |    |-- 21: boolean (nullable = true)\n |    |    |-- 210: boolean (nullable = true)\n |    |    |-- 211: boolean (nullable = true)\n |    |    |-- 212: boolean (nullable = true)\n |    |    |-- 213: boolean (nullable = true)\n |    |    |-- 214: boolean (nullable = true)\n |    |    |-- 215: boolean (nullable = true)\n |    |    |-- 216: boolean (nullable = true)\n |    |    |-- 217: boolean (nullable = true)\n |    |    |-- 218: boolean (nullable = true)\n |    |    |-- 219: boolean (nullable = true)\n |    |    |-- 220: boolean (nullable = true)\n |    |    |-- 221: boolean (nullable = true)\n |    |    |-- 222: boolean (nullable = true)\n |    |    |-- 223: boolean (nullable = true)\n |    |    |-- 224: boolean (nullable = true)\n |    |    |-- 225: boolean (nullable = true)\n |    |    |-- 250: boolean (nullable = true)\n |    |    |-- 252: boolean (nullable = true)\n |    |    |-- 253: boolean (nullable = true)\n |    |    |-- 254: boolean (nullable = true)\n |    |    |-- 255: boolean (nullable = true)\n |    |    |-- 256: boolean (nullable = true)\n |    |    |-- 257: boolean (nullable = true)\n |    |    |-- 26: boolean (nullable = true)\n |    |    |-- 289: boolean (nullable = true)\n |    |    |-- 292: boolean (nullable = true)\n |    |    |-- 294: boolean (nullable = true)\n |    |    |-- 295: boolean (nullable = true)\n |    |    |-- 296: boolean (nullable = true)\n |    |    |-- 299: boolean (nullable = true)\n |    |    |-- 300: boolean (nullable = true)\n |    |    |-- 301: boolean (nullable = true)\n |    |    |-- 307: boolean (nullable = true)\n |    |    |-- 34: boolean (nullable = true)\n |    |    |-- 35: boolean (nullable = true)\n |    |    |-- 50: boolean (nullable = true)\n |    |    |-- 51: boolean (nullable = true)\n |    |    |-- 52: boolean (nullable = true)\n |    |    |-- 53: boolean (nullable = true)\n |    |    |-- 57: boolean (nullable = true)\n |    |    |-- 60: boolean (nullable = true)\n |    |    |-- 66: boolean (nullable = true)\n |    |    |-- 68: boolean (nullable = true)\n |    |    |-- 7: boolean (nullable = true)\n |    |    |-- 71: boolean (nullable = true)\n |    |    |-- 83: boolean (nullable = true)\n |    |    |-- 84: boolean (nullable = true)\n |    |    |-- 86: boolean (nullable = true)\n |    |    |-- 89: boolean (nullable = true)\n |    |    |-- 91: boolean (nullable = true)\n |    |    |-- 92: boolean (nullable = true)\n |    |    |-- 93: boolean (nullable = true)\n |    |    |-- 94: boolean (nullable = true)\n |    |    |-- 96: boolean (nullable = true)\n |    |    |-- 97: boolean (nullable = true)\n |    |    |-- 98: boolean (nullable = true)\n |    |    |-- 99: boolean (nullable = true)\n |    |-- smartcompose_predict_location: string (nullable = true)\n |    |-- source: string (nullable = true)\n |    |-- sport: string (nullable = true)\n |    |-- step: string (nullable = true)\n |    |-- sticker_id: long (nullable = true)\n |    |-- sticker_viewed: long (nullable = true)\n |    |-- stickers: array (nullable = true)\n |    |    |-- element: struct (containsNull = true)\n |    |    |    |-- cache_status: string (nullable = true)\n |    |    |    |-- content_category_id: long (nullable = true)\n |    |    |    |-- head_gender: string (nullable = true)\n |    |    |    |-- head_id: string (nullable = true)\n |    |    |    |-- head_relation: string (nullable = true)\n |    |    |    |-- head_source: string (nullable = true)\n |    |    |    |-- head_type: long (nullable = true)\n |    |    |    |-- is_otf_present: long (nullable = true)\n |    |    |    |-- is_predicted: long (nullable = true)\n |    |    |    |-- is_recent: long (nullable = true)\n |    |    |    |-- is_translated: long (nullable = true)\n |    |    |    |-- otf_text: string (nullable = true)\n |    |    |    |-- pack_id: long (nullable = true)\n |    |    |    |-- rec_version: string (nullable = true)\n |    |    |    |-- rendering_time: long (nullable = true)\n |    |    |    |-- sticker_id: long (nullable = true)\n |    |-- stod_placement: long (nullable = true)\n |    |-- story_close_no: long (nullable = true)\n |    |-- story_format: string (nullable = true)\n |    |-- story_id: long (nullable = true)\n |    |-- story_type: string (nullable = true)\n |    |-- subpath: string (nullable = true)\n |    |-- suggest_algo_generated: string (nullable = true)\n |    |-- suggest_algo_shown_count: string (nullable = true)\n |    |-- suggest_algo_used_count: string (nullable = true)\n |    |-- suggest_count: long (nullable = true)\n |    |-- suggest_pos_count: struct (nullable = true)\n |    |    |-- 0: long (nullable = true)\n |    |    |-- 1: long (nullable = true)\n |    |    |-- 2: long (nullable = true)\n |    |-- suggest_shown_count: long (nullable = true)\n |    |-- suggestion_chars_count: long (nullable = true)\n |    |-- suggestion_chars_saved: long (nullable = true)\n |    |-- suggestion_chosen_index: long (nullable = true)\n |    |-- suggestion_count: string (nullable = true)\n |    |-- suggestion_shown: string (nullable = true)\n |    |-- suggestion_shown_index: long (nullable = true)\n |    |-- suggestions: array (nullable = true)\n |    |    |-- element: struct (containsNull = true)\n |    |    |    |-- source: string (nullable = true)\n |    |    |    |-- text: string (nullable = true)\n |    |-- suggestions_used: long (nullable = true)\n |    |-- switch_type: string (nullable = true)\n |    |-- team1: string (nullable = true)\n |    |-- team2: string (nullable = true)\n |    |-- text: string (nullable = true)\n |    |-- text_length: long (nullable = true)\n |    |-- text_locale: string (nullable = true)\n |    |-- text_searched: string (nullable = true)\n |    |-- text_source: string (nullable = true)\n |    |-- theme_id: long (nullable = true)\n |    |-- themes: array (nullable = true)\n |    |    |-- element: struct (containsNull = true)\n |    |    |    |-- theme_category_id: long (nullable = true)\n |    |    |    |-- theme_id: long (nullable = true)\n |    |-- time_taken: string (nullable = true)\n |    |-- tip_shown: string (nullable = true)\n |    |-- title: string (nullable = true)\n |    |-- to: string (nullable = true)\n |    |-- top_keys_used: long (nullable = true)\n |    |-- tournament: string (nullable = true)\n |    |-- trans_algo_count: string (nullable = true)\n |    |-- trans_algo_generated: string (nullable = true)\n |    |-- trans_algo_undo_count: string (nullable = true)\n |    |-- trans_count: long (nullable = true)\n |    |-- trans_undo_count: long (nullable = true)\n |    |-- type: string (nullable = true)\n |    |-- ui_type: string (nullable = true)\n |    |-- unique_permission_identifier: string (nullable = true)\n |    |-- unpinned_count: string (nullable = true)\n |    |-- variant: string (nullable = true)\n |    |-- vertical_scroll_counter: long (nullable = true)\n |    |-- viewed_package: string (nullable = true)\n |    |-- watermark_type: string (nullable = true)\n |    |-- watermark_used: long (nullable = true)\n |    |-- word_count: long (nullable = true)\n |-- device_id: string (nullable = true)\n |-- event_action: string (nullable = true)\n |-- event_type: string (nullable = true)\n |-- ip: string (nullable = true)\n |-- request_id: string (nullable = true)\n |-- screen_at: string (nullable = true)\n |-- sdk_version: string (nullable = true)\n |-- server_created_at: string (nullable = true)\n",
          "output_type": "stream"
        }
      ]
    },
    {
      "cell_type": "code",
      "source": [
        "df.describe().show()"
      ],
      "metadata": {
        "trusted": true,
        "tags": [],
        "id": "RWPJG7SA1sK9",
        "outputId": "9acdc30b-13d0-4307-e674-6b3e1021469f"
      },
      "execution_count": null,
      "outputs": [
        {
          "name": "stdout",
          "text": "+-------+--------------------+-----------------+--------------------+-------------------+--------------------+--------------------+----------+------------+--------------------+---------+------------------+-------------------+\n|summary|       advertisingId|           app_id|         app_version|         created_at|           device_id|        event_action|event_type|          ip|          request_id|screen_at|       sdk_version|  server_created_at|\n+-------+--------------------+-----------------+--------------------+-------------------+--------------------+--------------------+----------+------------+--------------------+---------+------------------+-------------------+\n|  count|              741850|           741850|              741850|             741850|              741850|              741850|    741850|      741850|              741850|   741850|            741850|             741850|\n|   mean|                null|             null|1.3558152861361057E8|               null|                null|                null|      null|        null|                null|     null|11.057018728858436|               null|\n| stddev|                null|             null|  4367370.4346635295|               null|                null|                null|      null|        null|                null|     null|1.0081614958446286|               null|\n|    min|                    | ai.mint.keyboard|           106090000|2020-12-03 15:54:08|000155ca-7787-479...|add_quick_reply_p...|   feature|1.179.74.166|0005a6a7-e9ad-41b...|         |                10|2024-07-01 00:00:11|\n|    max|fffe3b67-88e6-4d5...|com.mint.keyboard|           138010052|2024-07-03 00:00:39|ffff8095-60ab-40c...|         viewed_font|   feature|99.226.50.42|fff8aa3f-405b-420...|  unknown|                 9|2024-07-01 00:05:12|\n+-------+--------------------+-----------------+--------------------+-------------------+--------------------+--------------------+----------+------------+--------------------+---------+------------------+-------------------+\n",
          "output_type": "stream"
        }
      ]
    },
    {
      "cell_type": "code",
      "source": [
        "df.columns"
      ],
      "metadata": {
        "trusted": true,
        "tags": [],
        "id": "O2h7Km3u1sK9",
        "outputId": "9801a8d6-1a33-4aad-bb06-b78e23232c6a"
      },
      "execution_count": null,
      "outputs": [
        {
          "name": "stdout",
          "text": "['advertisingId', 'app_id', 'app_version', 'created_at', 'data', 'device_id', 'event_action', 'event_type', 'ip', 'request_id', 'screen_at', 'sdk_version', 'server_created_at']\n",
          "output_type": "stream"
        }
      ]
    },
    {
      "cell_type": "code",
      "source": [
        "print(f\"The number of columns in the dataframe: {len(df.columns)}\")"
      ],
      "metadata": {
        "trusted": true,
        "tags": [],
        "id": "yd3yzmq_1sK-",
        "outputId": "04145bf6-2a5a-448f-c180-9baaabc67d4c"
      },
      "execution_count": null,
      "outputs": [
        {
          "name": "stdout",
          "text": "The number of columns in the dataframe: 13\n",
          "output_type": "stream"
        }
      ]
    },
    {
      "cell_type": "code",
      "source": [
        "print(f\"The number of rows in the dataframe: {df.count()}\")"
      ],
      "metadata": {
        "trusted": true,
        "tags": [],
        "id": "esBdhytl1sK-",
        "outputId": "ea116be4-83bc-402f-bec4-3080ec6259a9"
      },
      "execution_count": null,
      "outputs": [
        {
          "name": "stdout",
          "text": "The number of rows in the dataframe: 2961704\n",
          "output_type": "stream"
        }
      ]
    },
    {
      "cell_type": "code",
      "source": [
        "df.show(1)"
      ],
      "metadata": {
        "trusted": true,
        "tags": [],
        "id": "IpJfZmmX1sK-",
        "outputId": "7e052497-a0a2-43c3-c8c1-fb057318da98"
      },
      "execution_count": null,
      "outputs": [
        {
          "name": "stdout",
          "text": "+--------------------+-----------------+-----------+-------------------+--------------------+--------------------+--------------+----------+--------------------+--------------------+---------+-----------+-------------------+\n|       advertisingId|           app_id|app_version|         created_at|                data|           device_id|  event_action|event_type|                  ip|          request_id|screen_at|sdk_version|  server_created_at|\n+--------------------+-----------------+-----------+-------------------+--------------------+--------------------+--------------+----------+--------------------+--------------------+---------+-----------+-------------------+\n|bc3f88ee-2006-466...|com.mint.keyboard|  112000202|2024-06-30 23:29:39|{null, null, null...|b75b85db-4710-431...|typing_summary|   feature|2001:448a:6040:72...|84d5eafb-e2ef-44c...|  kb_home|         11|2024-07-01 00:00:11|\n+--------------------+-----------------+-----------+-------------------+--------------------+--------------------+--------------+----------+--------------------+--------------------+---------+-----------+-------------------+\nonly showing top 1 row\n",
          "output_type": "stream"
        }
      ]
    },
    {
      "cell_type": "markdown",
      "source": [
        "#### Transformation"
      ],
      "metadata": {
        "id": "f094giBi1sK-"
      }
    },
    {
      "cell_type": "code",
      "source": [
        "import pyspark.sql.functions as F\n",
        "\n",
        "df = df.drop(\"request_id\")\n",
        "\n",
        "df = df.withColumn(\"event_timestamp\", F.unix_timestamp(\"created_at\", \"yyyy-MM-dd HH:mm:ss\"))\n",
        "\n",
        "df.select(\"event_timestamp\").show(5)"
      ],
      "metadata": {
        "trusted": true,
        "tags": [],
        "id": "r5ORXynv1sK-",
        "outputId": "a2ff4d31-35d8-4ed4-8879-8d0806affe38"
      },
      "execution_count": null,
      "outputs": [
        {
          "name": "stdout",
          "text": "+---------------+\n|event_timestamp|\n+---------------+\n|     1719790179|\n|     1719790190|\n|     1719790208|\n|     1719765059|\n|     1719765059|\n+---------------+\nonly showing top 5 rows\n",
          "output_type": "stream"
        }
      ]
    },
    {
      "cell_type": "code",
      "source": [
        "df_filtered = df.filter((df[\"event_timestamp\"] >= 1719340200) & (df[\"event_timestamp\"] <= 1719858599))\n",
        "df_filtered = df_filtered.withColumn(\"event_date\", F.to_date(\"created_at\", \"yyyy-MM-dd HH:mm:ss\"))\n",
        "df_filtered = df_filtered.drop(\"created_at\")\n",
        "df_filtered.count()"
      ],
      "metadata": {
        "trusted": true,
        "tags": [],
        "id": "hO61R78y1sK_",
        "outputId": "fa6c58d4-e1d4-4077-c903-293a5ed7edb5"
      },
      "execution_count": null,
      "outputs": [
        {
          "name": "stdout",
          "text": "2935443\n",
          "output_type": "stream"
        }
      ]
    },
    {
      "cell_type": "code",
      "source": [
        "df_filtered = df_filtered.withColumn(\"process_date\", F.to_date(\"server_created_at\", \"yyyy-MM-dd HH:mm:ss\"))\n",
        "df_filtered = df_filtered.withColumn(\"event_name\", F.col(\"event_action\").cast(\"string\"))\n",
        "\n",
        "df_final = df_filtered.drop(\"server_created_at\")\n",
        "df_final = df_final.drop(\"event_action\")\n",
        "df_final.columns"
      ],
      "metadata": {
        "trusted": true,
        "tags": [],
        "id": "ChT9Tj-H1sK_",
        "outputId": "0da94488-95c4-4e4d-d2f5-651d63d3b63d"
      },
      "execution_count": null,
      "outputs": [
        {
          "name": "stdout",
          "text": "['advertisingId', 'app_id', 'app_version', 'data', 'device_id', 'event_type', 'ip', 'screen_at', 'sdk_version', 'event_timestamp', 'event_date', 'process_date', 'event_name']\n",
          "output_type": "stream"
        }
      ]
    },
    {
      "cell_type": "code",
      "source": [
        "df_final.show(1)"
      ],
      "metadata": {
        "trusted": true,
        "tags": [],
        "id": "SAECsdUz1sK_",
        "outputId": "fb90580f-d7ff-41a4-febb-332885dde888"
      },
      "execution_count": null,
      "outputs": [
        {
          "name": "stdout",
          "text": "+--------------------+-----------------+-----------+--------------------+--------------------+----------+--------------------+---------+-----------+---------------+----------+------------+--------------+\n|       advertisingId|           app_id|app_version|                data|           device_id|event_type|                  ip|screen_at|sdk_version|event_timestamp|event_date|process_date|    event_name|\n+--------------------+-----------------+-----------+--------------------+--------------------+----------+--------------------+---------+-----------+---------------+----------+------------+--------------+\n|bc3f88ee-2006-466...|com.mint.keyboard|  112000202|{null, null, null...|b75b85db-4710-431...|   feature|2001:448a:6040:72...|  kb_home|         11|     1719790179|2024-06-30|  2024-07-01|typing_summary|\n+--------------------+-----------------+-----------+--------------------+--------------------+----------+--------------------+---------+-----------+---------------+----------+------------+--------------+\nonly showing top 1 row\n",
          "output_type": "stream"
        }
      ]
    },
    {
      "cell_type": "code",
      "source": [
        "len(df_final.columns)"
      ],
      "metadata": {
        "trusted": true,
        "tags": [],
        "id": "ZUp89Smc1sK_",
        "outputId": "7f010eac-b9fc-4684-cee0-c67f30c8f5d1"
      },
      "execution_count": null,
      "outputs": [
        {
          "name": "stdout",
          "text": "13\n",
          "output_type": "stream"
        }
      ]
    },
    {
      "cell_type": "code",
      "source": [
        "df_expanded = df_final.select(\n",
        "    F.col('device_id'),\n",
        "    F.col('advertisingId'),\n",
        "    F.col('app_id'),\n",
        "    F.col('app_version'),\n",
        "    F.col('sdk_version'),\n",
        "    F.col('ip'),\n",
        "    F.col('event_timestamp'),\n",
        "    F.col('event_name'),\n",
        "    F.col('process_date'),\n",
        "    F.col('event_date'),\n",
        "    F.col('event_type'),\n",
        "    F.col('screen_at'),\n",
        "    F.col('data').alias('data_event_params')\n",
        ")\n",
        "\n",
        "data_fields = df_expanded.select(\"data_event_params.*\").columns\n",
        "data_fields"
      ],
      "metadata": {
        "trusted": true,
        "tags": [],
        "id": "zYz5z6o21sK_",
        "outputId": "ad6ae8a5-005e-44c9-c691-e6292ef3c4d9"
      },
      "execution_count": null,
      "outputs": [
        {
          "name": "stdout",
          "text": "['action', 'action_taken', 'action_title', 'ad_category', 'ad_id', 'ad_list_size', 'ad_package_name', 'ad_partner', 'ad_type', 'ads_size', 'animated_emoji_id', 'api_request_identifier', 'audio', 'auto_corrected', 'auto_corrected_undo', 'autocorrect_char_saved', 'avg_key_stroke_time', 'background_story_id', 'banner_url', 'bigmoji_viewed', 'bigmojis', 'brand_campaign_id', 'cache_age', 'card_type', 'category', 'category_id', 'category_name', 'character_count', 'content_category_id', 'content_count', 'content_id', 'content_type', 'counter', 'customized_quick_reply', 'deeplink_id', 'default_font', 'deleted_count', 'dict', 'dictionary', 'dictionary_used', 'dictionary_version', 'direct_share', 'dismiss_reason', 'domain_name', 'emoji', 'emoji_id', 'error', 'error_message', 'error_type', 'flow', 'font', 'font_id', 'font_viewed', 'from', 'from_icon', 'gif_id', 'gif_viewed', 'gifs', 'grant', 'head_age', 'head_age_range', 'head_creation_unique_identifier', 'head_creation_user_time_taken', 'head_gender', 'head_id', 'head_list', 'head_relation', 'head_source', 'head_type', 'icon_id', 'icon_type', 'image_available', 'image_id', 'image_source', 'index', 'input_word_index', 'internal_ad_id', 'internal_content_type', 'is_alternate_title_used', 'is_forced_api_call', 'is_manual', 'is_otf_present', 'is_persisted', 'is_predicted', 'is_recent', 'is_swipe', 'is_translated', 'is_typing', 'is_word_deletion', 'kb_height', 'kb_language', 'kb_layout', 'keyword', 'language_code', 'language_id', 'language_version', 'layout', 'layout_id', 'loading_time', 'localRecommendationIdentifier', 'local_cache_reason', 'locale', 'macronic_suggest_count', 'match_event', 'match_id', 'match_status_code', 'meme_id', 'merged_dictionary_version', 'merged_language', 'merged_languages', 'moviegif_viewed', 'my_story', 'networkType', 'next_action', 'next_story_id', 'next_story_type', 'number_of_ads_requested', 'numeric_emoji_number_row', 'option_taken', 'options', 'orientation', 'otf_text', 'other_tab_id', 'other_tab_name', 'pack', 'pack_id', 'package_name', 'path', 'permission_type', 'phase', 'pinned_count', 'placement', 'placementLocation', 'placementType', 'placement_id', 'pop_text_style_id', 'poptext_viewed', 'predict_algo_generated', 'predict_algo_shown_count', 'predict_algo_used_count', 'predict_model_status', 'predict_pos_count', 'predict_saved_characters', 'predict_shown_count', 'prediction_used', 'previewResourceType', 'previous_story_id', 'previous_story_type', 'prompt_id', 'prompt_shown_count', 'prompt_text', 'prompt_type', 'provider', 'rec_version', 'recommendationIdentifier', 'rendering_time', 'request_http_status', 'request_identifier', 'response', 'response_source', 'revenue_model', 'score_type', 'sd_category_id', 'search', 'search_string', 'search_text', 'selected_female_head_id', 'selected_head_id', 'selected_male_head_id', 'server_quick_reply', 'sessionData', 'session_count', 'session_id', 'shared_as', 'shared_package', 'smart_compose_word_count', 'smartcompose_model_status', 'smartcompose_predict_location', 'source', 'sport', 'step', 'sticker_id', 'sticker_viewed', 'stickers', 'stod_placement', 'story_close_no', 'story_format', 'story_id', 'story_type', 'subpath', 'suggest_algo_generated', 'suggest_algo_shown_count', 'suggest_algo_used_count', 'suggest_count', 'suggest_pos_count', 'suggest_shown_count', 'suggestion_chars_count', 'suggestion_chars_saved', 'suggestion_chosen_index', 'suggestion_count', 'suggestion_shown', 'suggestion_shown_index', 'suggestions', 'suggestions_used', 'switch_type', 'team1', 'team2', 'text', 'text_length', 'text_locale', 'text_searched', 'text_source', 'theme_id', 'themes', 'time_taken', 'tip_shown', 'title', 'to', 'top_keys_used', 'tournament', 'trans_algo_count', 'trans_algo_generated', 'trans_algo_undo_count', 'trans_count', 'trans_undo_count', 'type', 'ui_type', 'unique_permission_identifier', 'unpinned_count', 'variant', 'vertical_scroll_counter', 'viewed_package', 'watermark_type', 'watermark_used', 'word_count']\n",
          "output_type": "stream"
        }
      ]
    },
    {
      "cell_type": "code",
      "source": [
        "for field in data_fields:\n",
        "    df_expanded = df_expanded.withColumn(f\"data_event_params_exploded_{field}\", F.col(f\"data_event_params.{field}\"))\n",
        "\n",
        "df_expanded = df_expanded.drop('data_event_params')\n",
        "df_expanded.columns"
      ],
      "metadata": {
        "trusted": true,
        "tags": [],
        "id": "ZPw93py_1sK_",
        "outputId": "a8c7bde3-4bbd-45d0-befa-b3046db4135f"
      },
      "execution_count": null,
      "outputs": [
        {
          "name": "stdout",
          "text": "['device_id', 'advertisingId', 'app_id', 'app_version', 'sdk_version', 'ip', 'event_timestamp', 'event_name', 'process_date', 'event_date', 'event_type', 'screen_at', 'data_event_params_exploded_action', 'data_event_params_exploded_action_taken', 'data_event_params_exploded_action_title', 'data_event_params_exploded_ad_category', 'data_event_params_exploded_ad_id', 'data_event_params_exploded_ad_list_size', 'data_event_params_exploded_ad_package_name', 'data_event_params_exploded_ad_partner', 'data_event_params_exploded_ad_type', 'data_event_params_exploded_ads_size', 'data_event_params_exploded_animated_emoji_id', 'data_event_params_exploded_api_request_identifier', 'data_event_params_exploded_audio', 'data_event_params_exploded_auto_corrected', 'data_event_params_exploded_auto_corrected_undo', 'data_event_params_exploded_autocorrect_char_saved', 'data_event_params_exploded_avg_key_stroke_time', 'data_event_params_exploded_background_story_id', 'data_event_params_exploded_banner_url', 'data_event_params_exploded_bigmoji_viewed', 'data_event_params_exploded_bigmojis', 'data_event_params_exploded_brand_campaign_id', 'data_event_params_exploded_cache_age', 'data_event_params_exploded_card_type', 'data_event_params_exploded_category', 'data_event_params_exploded_category_id', 'data_event_params_exploded_category_name', 'data_event_params_exploded_character_count', 'data_event_params_exploded_content_category_id', 'data_event_params_exploded_content_count', 'data_event_params_exploded_content_id', 'data_event_params_exploded_content_type', 'data_event_params_exploded_counter', 'data_event_params_exploded_customized_quick_reply', 'data_event_params_exploded_deeplink_id', 'data_event_params_exploded_default_font', 'data_event_params_exploded_deleted_count', 'data_event_params_exploded_dict', 'data_event_params_exploded_dictionary', 'data_event_params_exploded_dictionary_used', 'data_event_params_exploded_dictionary_version', 'data_event_params_exploded_direct_share', 'data_event_params_exploded_dismiss_reason', 'data_event_params_exploded_domain_name', 'data_event_params_exploded_emoji', 'data_event_params_exploded_emoji_id', 'data_event_params_exploded_error', 'data_event_params_exploded_error_message', 'data_event_params_exploded_error_type', 'data_event_params_exploded_flow', 'data_event_params_exploded_font', 'data_event_params_exploded_font_id', 'data_event_params_exploded_font_viewed', 'data_event_params_exploded_from', 'data_event_params_exploded_from_icon', 'data_event_params_exploded_gif_id', 'data_event_params_exploded_gif_viewed', 'data_event_params_exploded_gifs', 'data_event_params_exploded_grant', 'data_event_params_exploded_head_age', 'data_event_params_exploded_head_age_range', 'data_event_params_exploded_head_creation_unique_identifier', 'data_event_params_exploded_head_creation_user_time_taken', 'data_event_params_exploded_head_gender', 'data_event_params_exploded_head_id', 'data_event_params_exploded_head_list', 'data_event_params_exploded_head_relation', 'data_event_params_exploded_head_source', 'data_event_params_exploded_head_type', 'data_event_params_exploded_icon_id', 'data_event_params_exploded_icon_type', 'data_event_params_exploded_image_available', 'data_event_params_exploded_image_id', 'data_event_params_exploded_image_source', 'data_event_params_exploded_index', 'data_event_params_exploded_input_word_index', 'data_event_params_exploded_internal_ad_id', 'data_event_params_exploded_internal_content_type', 'data_event_params_exploded_is_alternate_title_used', 'data_event_params_exploded_is_forced_api_call', 'data_event_params_exploded_is_manual', 'data_event_params_exploded_is_otf_present', 'data_event_params_exploded_is_persisted', 'data_event_params_exploded_is_predicted', 'data_event_params_exploded_is_recent', 'data_event_params_exploded_is_swipe', 'data_event_params_exploded_is_translated', 'data_event_params_exploded_is_typing', 'data_event_params_exploded_is_word_deletion', 'data_event_params_exploded_kb_height', 'data_event_params_exploded_kb_language', 'data_event_params_exploded_kb_layout', 'data_event_params_exploded_keyword', 'data_event_params_exploded_language_code', 'data_event_params_exploded_language_id', 'data_event_params_exploded_language_version', 'data_event_params_exploded_layout', 'data_event_params_exploded_layout_id', 'data_event_params_exploded_loading_time', 'data_event_params_exploded_localRecommendationIdentifier', 'data_event_params_exploded_local_cache_reason', 'data_event_params_exploded_locale', 'data_event_params_exploded_macronic_suggest_count', 'data_event_params_exploded_match_event', 'data_event_params_exploded_match_id', 'data_event_params_exploded_match_status_code', 'data_event_params_exploded_meme_id', 'data_event_params_exploded_merged_dictionary_version', 'data_event_params_exploded_merged_language', 'data_event_params_exploded_merged_languages', 'data_event_params_exploded_moviegif_viewed', 'data_event_params_exploded_my_story', 'data_event_params_exploded_networkType', 'data_event_params_exploded_next_action', 'data_event_params_exploded_next_story_id', 'data_event_params_exploded_next_story_type', 'data_event_params_exploded_number_of_ads_requested', 'data_event_params_exploded_numeric_emoji_number_row', 'data_event_params_exploded_option_taken', 'data_event_params_exploded_options', 'data_event_params_exploded_orientation', 'data_event_params_exploded_otf_text', 'data_event_params_exploded_other_tab_id', 'data_event_params_exploded_other_tab_name', 'data_event_params_exploded_pack', 'data_event_params_exploded_pack_id', 'data_event_params_exploded_package_name', 'data_event_params_exploded_path', 'data_event_params_exploded_permission_type', 'data_event_params_exploded_phase', 'data_event_params_exploded_pinned_count', 'data_event_params_exploded_placement', 'data_event_params_exploded_placementLocation', 'data_event_params_exploded_placementType', 'data_event_params_exploded_placement_id', 'data_event_params_exploded_pop_text_style_id', 'data_event_params_exploded_poptext_viewed', 'data_event_params_exploded_predict_algo_generated', 'data_event_params_exploded_predict_algo_shown_count', 'data_event_params_exploded_predict_algo_used_count', 'data_event_params_exploded_predict_model_status', 'data_event_params_exploded_predict_pos_count', 'data_event_params_exploded_predict_saved_characters', 'data_event_params_exploded_predict_shown_count', 'data_event_params_exploded_prediction_used', 'data_event_params_exploded_previewResourceType', 'data_event_params_exploded_previous_story_id', 'data_event_params_exploded_previous_story_type', 'data_event_params_exploded_prompt_id', 'data_event_params_exploded_prompt_shown_count', 'data_event_params_exploded_prompt_text', 'data_event_params_exploded_prompt_type', 'data_event_params_exploded_provider', 'data_event_params_exploded_rec_version', 'data_event_params_exploded_recommendationIdentifier', 'data_event_params_exploded_rendering_time', 'data_event_params_exploded_request_http_status', 'data_event_params_exploded_request_identifier', 'data_event_params_exploded_response', 'data_event_params_exploded_response_source', 'data_event_params_exploded_revenue_model', 'data_event_params_exploded_score_type', 'data_event_params_exploded_sd_category_id', 'data_event_params_exploded_search', 'data_event_params_exploded_search_string', 'data_event_params_exploded_search_text', 'data_event_params_exploded_selected_female_head_id', 'data_event_params_exploded_selected_head_id', 'data_event_params_exploded_selected_male_head_id', 'data_event_params_exploded_server_quick_reply', 'data_event_params_exploded_sessionData', 'data_event_params_exploded_session_count', 'data_event_params_exploded_session_id', 'data_event_params_exploded_shared_as', 'data_event_params_exploded_shared_package', 'data_event_params_exploded_smart_compose_word_count', 'data_event_params_exploded_smartcompose_model_status', 'data_event_params_exploded_smartcompose_predict_location', 'data_event_params_exploded_source', 'data_event_params_exploded_sport', 'data_event_params_exploded_step', 'data_event_params_exploded_sticker_id', 'data_event_params_exploded_sticker_viewed', 'data_event_params_exploded_stickers', 'data_event_params_exploded_stod_placement', 'data_event_params_exploded_story_close_no', 'data_event_params_exploded_story_format', 'data_event_params_exploded_story_id', 'data_event_params_exploded_story_type', 'data_event_params_exploded_subpath', 'data_event_params_exploded_suggest_algo_generated', 'data_event_params_exploded_suggest_algo_shown_count', 'data_event_params_exploded_suggest_algo_used_count', 'data_event_params_exploded_suggest_count', 'data_event_params_exploded_suggest_pos_count', 'data_event_params_exploded_suggest_shown_count', 'data_event_params_exploded_suggestion_chars_count', 'data_event_params_exploded_suggestion_chars_saved', 'data_event_params_exploded_suggestion_chosen_index', 'data_event_params_exploded_suggestion_count', 'data_event_params_exploded_suggestion_shown', 'data_event_params_exploded_suggestion_shown_index', 'data_event_params_exploded_suggestions', 'data_event_params_exploded_suggestions_used', 'data_event_params_exploded_switch_type', 'data_event_params_exploded_team1', 'data_event_params_exploded_team2', 'data_event_params_exploded_text', 'data_event_params_exploded_text_length', 'data_event_params_exploded_text_locale', 'data_event_params_exploded_text_searched', 'data_event_params_exploded_text_source', 'data_event_params_exploded_theme_id', 'data_event_params_exploded_themes', 'data_event_params_exploded_time_taken', 'data_event_params_exploded_tip_shown', 'data_event_params_exploded_title', 'data_event_params_exploded_to', 'data_event_params_exploded_top_keys_used', 'data_event_params_exploded_tournament', 'data_event_params_exploded_trans_algo_count', 'data_event_params_exploded_trans_algo_generated', 'data_event_params_exploded_trans_algo_undo_count', 'data_event_params_exploded_trans_count', 'data_event_params_exploded_trans_undo_count', 'data_event_params_exploded_type', 'data_event_params_exploded_ui_type', 'data_event_params_exploded_unique_permission_identifier', 'data_event_params_exploded_unpinned_count', 'data_event_params_exploded_variant', 'data_event_params_exploded_vertical_scroll_counter', 'data_event_params_exploded_viewed_package', 'data_event_params_exploded_watermark_type', 'data_event_params_exploded_watermark_used', 'data_event_params_exploded_word_count']\n",
          "output_type": "stream"
        }
      ]
    },
    {
      "cell_type": "code",
      "source": [
        "len(df_expanded.columns)"
      ],
      "metadata": {
        "trusted": true,
        "tags": [],
        "id": "GKS86gt91sLA",
        "outputId": "4879773d-4227-4c22-da59-7a14164c5da4"
      },
      "execution_count": null,
      "outputs": [
        {
          "name": "stdout",
          "text": "247\n",
          "output_type": "stream"
        }
      ]
    },
    {
      "cell_type": "markdown",
      "source": [
        "#### Load"
      ],
      "metadata": {
        "id": "K7SJ0nEH1sLA"
      }
    },
    {
      "cell_type": "code",
      "source": [
        "try:\n",
        "    df_expanded.coalesce(1).write.mode(\"overwrite\").parquet(output_path)\n",
        "    print(f\"Data successfully written to {output_path}\")\n",
        "except Exception as e:\n",
        "    print(f\"Error writing data to S3: {e}\")"
      ],
      "metadata": {
        "trusted": true,
        "tags": [],
        "id": "8IiFd58C1sLA",
        "outputId": "41d23ca6-3619-4acb-d66e-577a7c65c551"
      },
      "execution_count": null,
      "outputs": [
        {
          "name": "stdout",
          "text": "Data successfully written to s3://test-buckets165/processed-data/\n",
          "output_type": "stream"
        }
      ]
    },
    {
      "cell_type": "code",
      "source": [],
      "metadata": {
        "id": "MliPBIQQ1sLA"
      },
      "execution_count": null,
      "outputs": []
    }
  ]
}